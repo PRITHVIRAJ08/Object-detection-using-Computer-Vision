{
 "cells": [
  {
   "cell_type": "code",
   "execution_count": 1,
   "id": "13d73d33",
   "metadata": {},
   "outputs": [
    {
     "ename": "ModuleNotFoundError",
     "evalue": "No module named 'cv2'",
     "output_type": "error",
     "traceback": [
      "\u001b[1;31m---------------------------------------------------------------------------\u001b[0m",
      "\u001b[1;31mModuleNotFoundError\u001b[0m                       Traceback (most recent call last)",
      "Cell \u001b[1;32mIn[1], line 1\u001b[0m\n\u001b[1;32m----> 1\u001b[0m \u001b[38;5;28;01mimport\u001b[39;00m \u001b[38;5;21;01mcv2\u001b[39;00m\n\u001b[0;32m      2\u001b[0m \u001b[38;5;28;01mfrom\u001b[39;00m \u001b[38;5;21;01mrandom\u001b[39;00m \u001b[38;5;28;01mimport\u001b[39;00m randint\n\u001b[0;32m      5\u001b[0m dnn \u001b[38;5;241m=\u001b[39m cv2\u001b[38;5;241m.\u001b[39mdnn\u001b[38;5;241m.\u001b[39mreadNet(\u001b[38;5;124m'\u001b[39m\u001b[38;5;124myolov4-tiny.weights\u001b[39m\u001b[38;5;124m'\u001b[39m, \u001b[38;5;124m'\u001b[39m\u001b[38;5;124myolov4-tiny (1).cfg\u001b[39m\u001b[38;5;124m'\u001b[39m)\n",
      "\u001b[1;31mModuleNotFoundError\u001b[0m: No module named 'cv2'"
     ]
    }
   ],
   "source": [
    "import cv2\n",
    "from random import randint\n",
    "\n",
    "\n",
    "dnn = cv2.dnn.readNet('yolov4-tiny.weights', 'yolov4-tiny (1).cfg')\n",
    "model = cv2.dnn_DetectionModel(dnn)\n",
    "model.setInputParams(size=(416, 416), scale=1/255, swapRB=True)\n",
    "\n",
    "with open('classes.txt') as f:\n",
    "    classes = f.read().strip().splitlines()\n",
    "\n",
    "capture = cv2.VideoCapture(0)\n",
    "capture.set(cv2.CAP_PROP_FRAME_WIDTH, 1280)\n",
    "capture.set(cv2.CAP_PROP_FRAME_HEIGHT, 720)\n",
    "\n",
    "color_map = {}\n",
    "\n",
    "while True:\n",
    "    # frame capture\n",
    "    _, frame = capture.read() \n",
    "    frame = cv2.flip(frame,1)\n",
    "\n",
    "    # object detection\n",
    "    class_ids, confidences, boxes = model.detect(frame)\n",
    "    for id, confidence, box in zip(class_ids, confidences, boxes):\n",
    "        x, y, w, h = box\n",
    "        obj_class = classes[id]\n",
    "\n",
    "        if obj_class not in color_map:\n",
    "            color = (randint(0, 255), randint(0, 255), randint(0, 255))\n",
    "            color_map[obj_class] = color\n",
    "        else:\n",
    "            color = color_map[obj_class]\n",
    "\n",
    "        cv2.putText(frame, f'{obj_class.title()} {format(confidence, \".2f\")}', (x, y-10), cv2.FONT_HERSHEY_DUPLEX, 1, color, 2)\n",
    "        cv2.rectangle(frame, (x, y), (x + w, y + h), color, 2)\n",
    "      \n",
    "      \n",
    "    cv2.imshow('Video Capture', frame)\n",
    "    key = cv2.waitKey(1) # freezes frame for 1ms\n",
    "\n",
    "    match(key):\n",
    "        case 27: # esc key to exit\n",
    "            capture.release()\n",
    "            cv2.destroyAllWindows()\n",
    "\n",
    "        case 13: # enter key to reset colors\n",
    "            color_map = {}\n",
    "    \n",
    "        \n",
    "\n",
    "        "
   ]
  },
  {
   "cell_type": "code",
   "execution_count": 2,
   "id": "d8943216",
   "metadata": {},
   "outputs": [
    {
     "name": "stdout",
     "output_type": "stream",
     "text": [
      "Collecting opencv-pythonNote: you may need to restart the kernel to use updated packages.\n",
      "\n",
      "  Obtaining dependency information for opencv-python from https://files.pythonhosted.org/packages/c7/ec/9dabb6a9abfdebb3c45b0cc52dec901caafef2b2c7e7d6a839ed86d81e91/opencv_python-4.9.0.80-cp37-abi3-win_amd64.whl.metadata\n",
      "  Using cached opencv_python-4.9.0.80-cp37-abi3-win_amd64.whl.metadata (20 kB)\n",
      "Requirement already satisfied: numpy>=1.21.2 in c:\\users\\prithvi\\anaconda3\\lib\\site-packages (from opencv-python) (1.24.3)\n",
      "Using cached opencv_python-4.9.0.80-cp37-abi3-win_amd64.whl (38.6 MB)\n",
      "Installing collected packages: opencv-python\n",
      "Successfully installed opencv-python-4.9.0.80\n"
     ]
    }
   ],
   "source": [
    "pip install opencv-python"
   ]
  },
  {
   "cell_type": "code",
   "execution_count": 3,
   "id": "2331a40b",
   "metadata": {},
   "outputs": [],
   "source": [
    "import cv2\n"
   ]
  },
  {
   "cell_type": "code",
   "execution_count": 1,
   "id": "e0398ace",
   "metadata": {},
   "outputs": [
    {
     "ename": "KeyboardInterrupt",
     "evalue": "",
     "output_type": "error",
     "traceback": [
      "\u001b[1;31m---------------------------------------------------------------------------\u001b[0m",
      "\u001b[1;31mKeyboardInterrupt\u001b[0m                         Traceback (most recent call last)",
      "Cell \u001b[1;32mIn[1], line 20\u001b[0m\n\u001b[0;32m     16\u001b[0m color_map \u001b[38;5;241m=\u001b[39m {}\n\u001b[0;32m     18\u001b[0m \u001b[38;5;28;01mwhile\u001b[39;00m \u001b[38;5;28;01mTrue\u001b[39;00m:\n\u001b[0;32m     19\u001b[0m     \u001b[38;5;66;03m# frame capture\u001b[39;00m\n\u001b[1;32m---> 20\u001b[0m     _, frame \u001b[38;5;241m=\u001b[39m capture\u001b[38;5;241m.\u001b[39mread() \n\u001b[0;32m     21\u001b[0m     frame \u001b[38;5;241m=\u001b[39m cv2\u001b[38;5;241m.\u001b[39mflip(frame,\u001b[38;5;241m1\u001b[39m)\n\u001b[0;32m     23\u001b[0m     \u001b[38;5;66;03m# object detection\u001b[39;00m\n",
      "\u001b[1;31mKeyboardInterrupt\u001b[0m: "
     ]
    }
   ],
   "source": [
    "import cv2\n",
    "from random import randint\n",
    "\n",
    "\n",
    "dnn = cv2.dnn.readNet('yolov4-tiny.weights', 'yolov4-tiny (1).cfg')\n",
    "model = cv2.dnn_DetectionModel(dnn)\n",
    "model.setInputParams(size=(416, 416), scale=1/255, swapRB=True)\n",
    "\n",
    "with open('classes.txt') as f:\n",
    "    classes = f.read().strip().splitlines()\n",
    "\n",
    "capture = cv2.VideoCapture(0)\n",
    "capture.set(cv2.CAP_PROP_FRAME_WIDTH, 1280)\n",
    "capture.set(cv2.CAP_PROP_FRAME_HEIGHT, 720)\n",
    "\n",
    "color_map = {}\n",
    "\n",
    "while True:\n",
    "    # frame capture\n",
    "    _, frame = capture.read() \n",
    "    frame = cv2.flip(frame,1)\n",
    "\n",
    "    # object detection\n",
    "    class_ids, confidences, boxes = model.detect(frame)\n",
    "    for id, confidence, box in zip(class_ids, confidences, boxes):\n",
    "        x, y, w, h = box\n",
    "        obj_class = classes[id]\n",
    "\n",
    "        if obj_class not in color_map:\n",
    "            color = (randint(0, 255), randint(0, 255), randint(0, 255))\n",
    "            color_map[obj_class] = color\n",
    "        else:\n",
    "            color = color_map[obj_class]\n",
    "\n",
    "        cv2.putText(frame, f'{obj_class.title()} {format(confidence, \".2f\")}', (x, y-10), cv2.FONT_HERSHEY_DUPLEX, 1, color, 2)\n",
    "        cv2.rectangle(frame, (x, y), (x + w, y + h), color, 2)\n",
    "      \n",
    "      \n",
    "    cv2.imshow('Video Capture', frame)\n",
    "    key = cv2.waitKey(1) # freezes frame for 1ms\n",
    "\n",
    "    match(key):\n",
    "        case 27: # esc key to exit\n",
    "            capture.release()\n",
    "            cv2.destroyAllWindows()\n",
    "\n",
    "        case 13: # enter key to reset colors\n",
    "            color_map = {}\n",
    "    \n",
    "        \n"
   ]
  },
  {
   "cell_type": "code",
   "execution_count": null,
   "id": "7e1cacb9",
   "metadata": {},
   "outputs": [],
   "source": []
  }
 ],
 "metadata": {
  "kernelspec": {
   "display_name": "Python 3 (ipykernel)",
   "language": "python",
   "name": "python3"
  },
  "language_info": {
   "codemirror_mode": {
    "name": "ipython",
    "version": 3
   },
   "file_extension": ".py",
   "mimetype": "text/x-python",
   "name": "python",
   "nbconvert_exporter": "python",
   "pygments_lexer": "ipython3",
   "version": "3.11.5"
  }
 },
 "nbformat": 4,
 "nbformat_minor": 5
}
